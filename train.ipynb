{
  "cells": [
    {
      "cell_type": "code",
      "source": [
        "!git clone https://github.com/AaS654/DL_ex4.git"
      ],
      "metadata": {
        "id": "vOnmDXoNtZWS",
        "outputId": "7f1385c4-795b-47cc-da0b-cf393f96b6b4",
        "colab": {
          "base_uri": "https://localhost:8080/"
        }
      },
      "execution_count": 21,
      "outputs": [
        {
          "output_type": "stream",
          "name": "stdout",
          "text": [
            "fatal: destination path 'DL_ex4' already exists and is not an empty directory.\n"
          ]
        }
      ]
    },
    {
      "cell_type": "code",
      "execution_count": 23,
      "metadata": {
        "vscode": {
          "languageId": "plaintext"
        },
        "id": "hclkwscStXLi",
        "outputId": "3271a7aa-317c-4aa6-8527-b3bd3dbd274b",
        "colab": {
          "base_uri": "https://localhost:8080/",
          "height": 399
        }
      },
      "outputs": [
        {
          "output_type": "error",
          "ename": "ModuleNotFoundError",
          "evalue": "No module named 'data'",
          "traceback": [
            "\u001b[0;31m---------------------------------------------------------------------------\u001b[0m",
            "\u001b[0;31mModuleNotFoundError\u001b[0m                       Traceback (most recent call last)",
            "\u001b[0;32m<ipython-input-23-f5d3977aff3b>\u001b[0m in \u001b[0;36m<cell line: 0>\u001b[0;34m()\u001b[0m\n\u001b[1;32m      1\u001b[0m \u001b[0;32mimport\u001b[0m \u001b[0mtorch\u001b[0m \u001b[0;32mas\u001b[0m \u001b[0mt\u001b[0m\u001b[0;34m\u001b[0m\u001b[0;34m\u001b[0m\u001b[0m\n\u001b[0;32m----> 2\u001b[0;31m \u001b[0;32mfrom\u001b[0m \u001b[0mdata\u001b[0m\u001b[0;34m.\u001b[0m\u001b[0mpy\u001b[0m \u001b[0;32mimport\u001b[0m \u001b[0mChallengeDataset\u001b[0m\u001b[0;34m\u001b[0m\u001b[0;34m\u001b[0m\u001b[0m\n\u001b[0m\u001b[1;32m      3\u001b[0m \u001b[0;32mfrom\u001b[0m \u001b[0mtrainer\u001b[0m \u001b[0;32mimport\u001b[0m \u001b[0mTrainer\u001b[0m\u001b[0;34m\u001b[0m\u001b[0;34m\u001b[0m\u001b[0m\n\u001b[1;32m      4\u001b[0m \u001b[0;32mfrom\u001b[0m \u001b[0mmatplotlib\u001b[0m \u001b[0;32mimport\u001b[0m \u001b[0mpyplot\u001b[0m \u001b[0;32mas\u001b[0m \u001b[0mplt\u001b[0m\u001b[0;34m\u001b[0m\u001b[0;34m\u001b[0m\u001b[0m\n\u001b[1;32m      5\u001b[0m \u001b[0;32mimport\u001b[0m \u001b[0mnumpy\u001b[0m \u001b[0;32mas\u001b[0m \u001b[0mnp\u001b[0m\u001b[0;34m\u001b[0m\u001b[0;34m\u001b[0m\u001b[0m\n",
            "\u001b[0;31mModuleNotFoundError\u001b[0m: No module named 'data'",
            "",
            "\u001b[0;31m---------------------------------------------------------------------------\u001b[0;32m\nNOTE: If your import is failing due to a missing package, you can\nmanually install dependencies using either !pip or !apt.\n\nTo view examples of installing some common dependencies, click the\n\"Open Examples\" button below.\n\u001b[0;31m---------------------------------------------------------------------------\u001b[0m\n"
          ],
          "errorDetails": {
            "actions": [
              {
                "action": "open_url",
                "actionText": "Open Examples",
                "url": "/notebooks/snippets/importing_libraries.ipynb"
              }
            ]
          }
        }
      ],
      "source": [
        "import torch as t\n",
        "from data import ChallengeDataset\n",
        "from trainer import Trainer\n",
        "from matplotlib import pyplot as plt\n",
        "import numpy as np\n",
        "import model\n",
        "import pandas as pd\n",
        "from sklearn.model_selection import train_test_split\n"
      ]
    },
    {
      "cell_type": "code",
      "execution_count": null,
      "metadata": {
        "vscode": {
          "languageId": "plaintext"
        },
        "id": "nySpnNy9tXLl"
      },
      "outputs": [],
      "source": [
        "\n",
        "\n",
        "csv_path = \"data.csv\"\n",
        "df = pd.read_csv(csv_path, sep=';')\n",
        "train_df, val_df = train_test_split(df, test_size=0.2, random_state=42)\n",
        "\n",
        "\n",
        "# set up data loading for the training and validation set each using t.utils.data.DataLoader and ChallengeDataset objects\n",
        "# TODO\n",
        "train_dataset = ChallengeDataset(data=train_df, mode='train')\n",
        "val_dataset = ChallengeDataset(data=val_df, mode='val')\n",
        "\n",
        "\n",
        "train_loader = t.utils.data.DataLoader(train_dataset, batch_size=50, shuffle=True)\n",
        "val_loader = t.utils.data.DataLoader(val_dataset, batch_size=50)\n",
        "\n",
        "\n"
      ]
    },
    {
      "cell_type": "code",
      "execution_count": null,
      "metadata": {
        "vscode": {
          "languageId": "plaintext"
        },
        "id": "XQJQMvWqtXLn"
      },
      "outputs": [],
      "source": [
        "\n",
        "# create an instance of our ResNet model\n",
        "# TODO\n",
        "resnet_model = model.ResNet()\n",
        "\n",
        "# set up a suitable loss criterion (you can find a pre-implemented loss functions in t.nn)\n",
        "# set up the optimizer (see t.optim)\n",
        "# create an object of type Trainer and set its early stopping criterion\n",
        "# TODO\n",
        "criterion = t.nn.BCELoss()\n",
        "optimizer = t.optim.Adam(resnet_model.parameters(), lr=0.001)\n",
        "\n",
        "trainer = Trainer(\n",
        "    model=resnet_model,\n",
        "    crit=criterion,\n",
        "    optim=optimizer,\n",
        "    train_dl=train_loader,\n",
        "    val_test_dl=val_loader,\n",
        "    cuda=False,  # Set to True if GPU is available\n",
        "    early_stopping_patience=3\n",
        ")\n"
      ]
    },
    {
      "cell_type": "code",
      "execution_count": null,
      "metadata": {
        "vscode": {
          "languageId": "plaintext"
        },
        "id": "rd9mF__TtXLo"
      },
      "outputs": [],
      "source": [
        "\n",
        "res = trainer.fit(epochs=2)"
      ]
    },
    {
      "cell_type": "code",
      "execution_count": null,
      "metadata": {
        "vscode": {
          "languageId": "plaintext"
        },
        "id": "yFZk370ltXLp"
      },
      "outputs": [],
      "source": [
        "# plot the results\n",
        "plt.plot(np.arange(len(res[0])), res[0], label='train loss')\n",
        "plt.plot(np.arange(len(res[1])), res[1], label='val loss')\n",
        "plt.yscale('log')\n",
        "plt.legend()\n",
        "plt.savefig('losses.png')\n",
        "\n"
      ]
    }
  ],
  "metadata": {
    "language_info": {
      "name": "python"
    },
    "colab": {
      "provenance": []
    },
    "kernelspec": {
      "name": "python3",
      "display_name": "Python 3"
    }
  },
  "nbformat": 4,
  "nbformat_minor": 0
}