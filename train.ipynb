{
 "cells": [
  {
   "cell_type": "code",
   "execution_count": null,
   "metadata": {
    "vscode": {
     "languageId": "plaintext"
    }
   },
   "outputs": [],
   "source": [
    "import torch as t\n",
    "from data import ChallengeDataset\n",
    "from trainer import Trainer\n",
    "from matplotlib import pyplot as plt\n",
    "import numpy as np\n",
    "import model\n",
    "import pandas as pd\n",
    "from sklearn.model_selection import train_test_split\n"
   ]
  },
  {
   "cell_type": "code",
   "execution_count": null,
   "metadata": {
    "vscode": {
     "languageId": "plaintext"
    }
   },
   "outputs": [],
   "source": [
    "\n",
    "\n",
    "csv_path = \"data.csv\"\n",
    "df = pd.read_csv(csv_path, sep=';')\n",
    "train_df, val_df = train_test_split(df, test_size=0.2, random_state=42)\n",
    "\n",
    "\n",
    "# set up data loading for the training and validation set each using t.utils.data.DataLoader and ChallengeDataset objects\n",
    "# TODO\n",
    "train_dataset = ChallengeDataset(data=train_df, mode='train')\n",
    "val_dataset = ChallengeDataset(data=val_df, mode='val')\n",
    "\n",
    "\n",
    "train_loader = t.utils.data.DataLoader(train_dataset, batch_size=50, shuffle=True)\n",
    "val_loader = t.utils.data.DataLoader(val_dataset, batch_size=50)\n",
    "\n",
    "\n"
   ]
  },
  {
   "cell_type": "code",
   "execution_count": null,
   "metadata": {
    "vscode": {
     "languageId": "plaintext"
    }
   },
   "outputs": [],
   "source": [
    "\n",
    "# create an instance of our ResNet model\n",
    "# TODO\n",
    "resnet_model = model.ResNet() \n",
    "\n",
    "# set up a suitable loss criterion (you can find a pre-implemented loss functions in t.nn)\n",
    "# set up the optimizer (see t.optim)\n",
    "# create an object of type Trainer and set its early stopping criterion\n",
    "# TODO\n",
    "criterion = t.nn.BCELoss() \n",
    "optimizer = t.optim.Adam(resnet_model.parameters(), lr=0.001)\n",
    "\n",
    "trainer = Trainer(\n",
    "    model=resnet_model,\n",
    "    crit=criterion,\n",
    "    optim=optimizer,\n",
    "    train_dl=train_loader,\n",
    "    val_test_dl=val_loader,\n",
    "    cuda=False,  # Set to True if GPU is available\n",
    "    early_stopping_patience=3\n",
    ")\n"
   ]
  },
  {
   "cell_type": "code",
   "execution_count": null,
   "metadata": {
    "vscode": {
     "languageId": "plaintext"
    }
   },
   "outputs": [],
   "source": [
    "\n",
    "res = trainer.fit(epochs=2)"
   ]
  },
  {
   "cell_type": "code",
   "execution_count": null,
   "metadata": {
    "vscode": {
     "languageId": "plaintext"
    }
   },
   "outputs": [],
   "source": [
    "# plot the results\n",
    "plt.plot(np.arange(len(res[0])), res[0], label='train loss')\n",
    "plt.plot(np.arange(len(res[1])), res[1], label='val loss')\n",
    "plt.yscale('log')\n",
    "plt.legend()\n",
    "plt.savefig('losses.png')\n",
    "\n"
   ]
  }
 ],
 "metadata": {
  "language_info": {
   "name": "python"
  }
 },
 "nbformat": 4,
 "nbformat_minor": 2
}
